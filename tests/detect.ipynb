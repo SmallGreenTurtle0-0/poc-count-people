{
 "cells": [
  {
   "cell_type": "code",
   "execution_count": 1,
   "metadata": {},
   "outputs": [],
   "source": [
    "import requests\n",
    "from PIL import Image\n",
    "\n",
    "def get_data(image_path):\n",
    "    # read image by Image module\n",
    "    image = Image.open(image_path)\n",
    "    # convert image to bytes\n",
    "    image_bytes = image.tobytes()\n",
    "    # return base64\n",
    "    return image_bytes\n",
    "\n",
    "def get_result(image_base64):\n",
    "    # set url\n",
    "    endpoint = \"http://127.0.0.1:3000/people/count\"\n",
    "    # set headers\n",
    "    headers = {'Content-Type': 'application/json'}\n",
    "    # set data\n",
    "    data = {'image': image_base64}\n",
    "    # send post request\n",
    "    response = requests.post(endpoint, headers=headers, params=data)\n",
    "\n",
    "    # return response\n",
    "    return response.json()\n",
    "\n",
    "image_path = \"/home/hahoang/Desktop/Upwork/poc-count-people/data/people_count.png\"\n",
    "image_base64 = get_data(image_path)\n",
    "result = get_result(image_base64)\n"
   ]
  },
  {
   "cell_type": "code",
   "execution_count": null,
   "metadata": {},
   "outputs": [],
   "source": []
  }
 ],
 "metadata": {
  "kernelspec": {
   "display_name": "poc_count_people",
   "language": "python",
   "name": "python3"
  },
  "language_info": {
   "codemirror_mode": {
    "name": "ipython",
    "version": 3
   },
   "file_extension": ".py",
   "mimetype": "text/x-python",
   "name": "python",
   "nbconvert_exporter": "python",
   "pygments_lexer": "ipython3",
   "version": "3.9.19"
  }
 },
 "nbformat": 4,
 "nbformat_minor": 2
}
