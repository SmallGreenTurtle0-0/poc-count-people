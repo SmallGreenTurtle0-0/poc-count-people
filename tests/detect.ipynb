{
 "cells": [
  {
   "cell_type": "code",
   "execution_count": 1,
   "metadata": {},
   "outputs": [],
   "source": [
    "import base64\n",
    "import requests\n",
    "from PIL import Image\n",
    "import json\n",
    "\n",
    "def get_data(image_path):\n",
    "    with open(image_path, \"rb\") as f:\n",
    "        im_bytes = f.read()        \n",
    "    im_b64 = base64.b64encode(im_bytes).decode(\"utf8\")\n",
    "    \n",
    "    return im_b64\n",
    "\n",
    "def get_result(image, type = 'path'):\n",
    "    endpoint = \"http://127.0.0.1:3000/people/count\"\n",
    "    headers = {'Content-Type': 'application/json', 'Accept': 'text/plain'}\n",
    "    payload = {'image': image, 'type': type}\n",
    "    response = requests.post(endpoint, headers=headers, data=json.dumps(payload))\n",
    "\n",
    "    return response\n",
    "\n"
   ]
  },
  {
   "cell_type": "code",
   "execution_count": 8,
   "metadata": {},
   "outputs": [
    {
     "data": {
      "text/plain": [
       "[{'name': 'person',\n",
       "  'class': 0,\n",
       "  'confidence': 0.24445,\n",
       "  'box': {'x1': 96.14964, 'y1': 7.7156, 'x2': 249.77141, 'y2': 180.63029}}]"
      ]
     },
     "execution_count": 8,
     "metadata": {},
     "output_type": "execute_result"
    }
   ],
   "source": [
    "image_path = \"../data/dogcatperson.jpeg\"\n",
    "image = get_data(image_path)\n",
    "result = get_result(image, type=\"base64\")\n",
    "\n",
    "detail = json.loads(result.content)[\"detail\"]\n",
    "json.loads(detail)"
   ]
  },
  {
   "cell_type": "code",
   "execution_count": null,
   "metadata": {},
   "outputs": [],
   "source": [
    "image_path = \"data/dogcatperson.jpeg\"\n",
    "result = get_result(image_path)\n",
    "result"
   ]
  },
  {
   "cell_type": "code",
   "execution_count": null,
   "metadata": {},
   "outputs": [],
   "source": []
  }
 ],
 "metadata": {
  "kernelspec": {
   "display_name": "poc_count_people",
   "language": "python",
   "name": "python3"
  },
  "language_info": {
   "codemirror_mode": {
    "name": "ipython",
    "version": 3
   },
   "file_extension": ".py",
   "mimetype": "text/x-python",
   "name": "python",
   "nbconvert_exporter": "python",
   "pygments_lexer": "ipython3",
   "version": "3.9.19"
  }
 },
 "nbformat": 4,
 "nbformat_minor": 2
}
